{
 "cells": [
  {
   "cell_type": "code",
   "execution_count": null,
   "id": "da74d5c9",
   "metadata": {},
   "outputs": [],
   "source": [
    "import bs4\n",
    "import pandas\n",
    "import re\n",
    "import requests\n",
    "import datetime\n",
    "import os\n",
    "from typing import Tuple, Optional, Dict\n",
    "\n",
    "from mma.glm.merge_data import DATA_PATH, load_fighters_df, load_merged_df"
   ]
  },
  {
   "cell_type": "code",
   "execution_count": null,
   "id": "a7102f6e",
   "metadata": {},
   "outputs": [],
   "source": []
  },
  {
   "cell_type": "code",
   "execution_count": null,
   "id": "d1d4ecec",
   "metadata": {},
   "outputs": [],
   "source": []
  },
  {
   "cell_type": "code",
   "execution_count": null,
   "id": "c480185a",
   "metadata": {},
   "outputs": [],
   "source": []
  },
  {
   "cell_type": "code",
   "execution_count": null,
   "id": "8542536e",
   "metadata": {},
   "outputs": [],
   "source": []
  },
  {
   "cell_type": "code",
   "execution_count": null,
   "id": "08080e08",
   "metadata": {},
   "outputs": [],
   "source": [
    "def parse_id_slug(href: str) -> Tuple[str, str]:\n",
    "    *extra, fid, slug = href.split('/')\n",
    "    return str(int(fid)), slug\n",
    "\n",
    "def parse_event_id(event_url: str) -> str:\n",
    "    \"\"\" 'https://www.espn.com/mma/fightcenter/_/id/600022153/league/ufc' \"\"\"\n",
    "    *_, event_id, _, _ = event_url.split('/')\n",
    "    return str(int(event_id))\n",
    "\n",
    "def parse_event_id_opt(row_td) -> Optional[int]:\n",
    "    a = row_td.find('a')\n",
    "    if not a:\n",
    "        return None\n",
    "    href = a.get('href')\n",
    "    if not href:\n",
    "        return None\n",
    "    return parse_event_id(href)\n",
    "\n",
    "def map_rows(header, row) -> Dict:\n",
    "    row_tds = [r for r in row.find_all('td')]\n",
    "    row_map = dict(zip(header, [td.get_text().strip() for td in row_tds]))\n",
    "    opponent_id, opponent_slug = parse_id_slug(row_tds[1].find('a').get('href'))\n",
    "    row_map['opponentEspnId'] = opponent_id\n",
    "    row_map['opponentEspnSlug'] = opponent_slug\n",
    "    row_map['eventEspnId'] = parse_event_id_opt(row_tds[2])\n",
    "    return row_map\n",
    "\n",
    "def make_rows(table, espn_id) -> pandas.DataFrame:\n",
    "    header, *rows = table.find_all('tr')\n",
    "    header_cols = [h.get_text().strip() for h in header.find_all('th')]\n",
    "    mapped_rows = [\n",
    "        map_rows(header_cols, row)\n",
    "        for row in rows\n",
    "    ]\n",
    "    df = pandas.DataFrame(mapped_rows)\n",
    "    df['espnId'] = espn_id\n",
    "    return df"
   ]
  },
  {
   "cell_type": "code",
   "execution_count": null,
   "id": "36490176",
   "metadata": {},
   "outputs": [],
   "source": []
  },
  {
   "cell_type": "code",
   "execution_count": null,
   "id": "018d40ae",
   "metadata": {},
   "outputs": [],
   "source": [
    "letters = list('abcdefghijklmnopqrstuvwxyz')\n",
    "len(letters)"
   ]
  },
  {
   "cell_type": "code",
   "execution_count": null,
   "id": "7fb23268",
   "metadata": {},
   "outputs": [],
   "source": [
    "# id_to_slug = {}\n",
    "# for letter in letters:\n",
    "#     response = requests.get(f'http://www.espn.com/mma/fighters?search={letter}')\n",
    "#     soup = bs4.BeautifulSoup(response.text)\n",
    "#     trs = soup.find('table').find_all('tr')\n",
    "#     hrefs = [tr.find('a').get('href') for tr in trs[2:]]\n",
    "#     id_to_slug.update(dict([parse_id_slug(hr) for hr in hrefs]))\n",
    "    \n",
    "# espn_fighters = pandas.DataFrame([{'espnId': str(espn_id), 'espnSlug': slug} for espn_id, slug in id_to_slug.items()])\n",
    "# espn_fighters.head(1)\n",
    "# espn_fighters.to_csv(f'{DATA_PATH}/espn_fighters.csv', index=False)"
   ]
  },
  {
   "cell_type": "code",
   "execution_count": null,
   "id": "80e6e3f2",
   "metadata": {},
   "outputs": [],
   "source": [
    "espn_dir = f'{DATA_PATH}/espn_fighters'\n",
    "os.makedirs(espn_dir, exist_ok=True)\n",
    "scraped_ids = set(os.listdir(espn_dir))\n",
    "# espn_ids = espn_fighters['espnId']"
   ]
  },
  {
   "cell_type": "code",
   "execution_count": null,
   "id": "64c70415",
   "metadata": {},
   "outputs": [],
   "source": []
  },
  {
   "cell_type": "code",
   "execution_count": null,
   "id": "c6d77ffb",
   "metadata": {},
   "outputs": [],
   "source": []
  },
  {
   "cell_type": "code",
   "execution_count": null,
   "id": "4afad6e3",
   "metadata": {},
   "outputs": [],
   "source": []
  },
  {
   "cell_type": "code",
   "execution_count": null,
   "id": "19c03f44",
   "metadata": {
    "scrolled": false
   },
   "outputs": [],
   "source": [
    "\n",
    "\n",
    "error_ids = set()\n",
    "for i, espn_id in enumerate(espn_ids):\n",
    "    \n",
    "    if str(espn_id) in scraped_ids:\n",
    "        continue\n",
    "\n",
    "    if (i+1) % 100 == 0:\n",
    "        print(f'fetching for {espn_id=} [{i+1}/{len(espn_ids)}]')\n",
    "\n",
    "    url = f'https://www.espn.com/mma/fighter/stats/_/id/{espn_id}'\n",
    "    try:\n",
    "        response = requests.get(url)\n",
    "        soup = bs4.BeautifulSoup(response.text)\n",
    "        try:    \n",
    "            distance, clinch, ground = soup.find_all('table')\n",
    "        except ValueError:\n",
    "            continue\n",
    "\n",
    "        di_df = make_rows(distance, espn_id)\n",
    "        cl_df = make_rows(clinch, espn_id)\n",
    "        gr_df = make_rows(ground, espn_id)\n",
    "\n",
    "        os.makedirs(f'{espn_dir}/{espn_id}', exist_ok=True)\n",
    "        di_df.to_csv(f'{espn_dir}/{espn_id}/distance.csv', index=False)\n",
    "        cl_df.to_csv(f'{espn_dir}/{espn_id}/clinch.csv', index=False)\n",
    "        gr_df.to_csv(f'{espn_dir}/{espn_id}/ground.csv', index=False)\n",
    "    except:\n",
    "        error_ids.add(espn_id)"
   ]
  },
  {
   "cell_type": "code",
   "execution_count": null,
   "id": "0dafe677",
   "metadata": {
    "scrolled": false
   },
   "outputs": [],
   "source": []
  },
  {
   "cell_type": "code",
   "execution_count": null,
   "id": "e34683d9",
   "metadata": {},
   "outputs": [],
   "source": []
  },
  {
   "cell_type": "code",
   "execution_count": null,
   "id": "27b77663",
   "metadata": {},
   "outputs": [],
   "source": []
  },
  {
   "cell_type": "code",
   "execution_count": null,
   "id": "b297f67d",
   "metadata": {},
   "outputs": [],
   "source": []
  },
  {
   "cell_type": "code",
   "execution_count": null,
   "id": "518b02db",
   "metadata": {},
   "outputs": [],
   "source": []
  }
 ],
 "metadata": {
  "kernelspec": {
   "display_name": "Python 3 (ipykernel)",
   "language": "python",
   "name": "python3"
  },
  "language_info": {
   "codemirror_mode": {
    "name": "ipython",
    "version": 3
   },
   "file_extension": ".py",
   "mimetype": "text/x-python",
   "name": "python",
   "nbconvert_exporter": "python",
   "pygments_lexer": "ipython3",
   "version": "3.11.0"
  }
 },
 "nbformat": 4,
 "nbformat_minor": 5
}
