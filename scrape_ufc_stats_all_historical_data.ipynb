{
 "cells": [
  {
   "cell_type": "code",
   "execution_count": null,
   "metadata": {},
   "outputs": [],
   "source": [
    "'''\n",
    "Overview\n",
    "this notebook parses all past ufc fight stats when run, it does not include upcoming fights\n",
    "\n",
    "\n",
    "scrape ufc fight stats\n",
    "get all event details, name, url, date, location for all ufc events\n",
    "for each event, get fight details all fights on card\n",
    "parse each fight to get fight stats of both fighters\n",
    "'''"
   ]
  },
  {
   "cell_type": "code",
   "execution_count": null,
   "metadata": {},
   "outputs": [],
   "source": [
    "# imports\n",
    "import pandas as pd\n",
    "from tqdm.notebook import tqdm_notebook\n",
    "import time\n",
    "\n",
    "# import library\n",
    "import scrape_ufc_stats_library as LIB\n",
    "\n",
    "# import config\n",
    "import yaml\n",
    "config = yaml.safe_load(open('scrape_ufc_stats_config.yaml'))"
   ]
  },
  {
   "cell_type": "markdown",
   "metadata": {},
   "source": [
    "# Parse Event Details\n",
    "Includes:\n",
    "<br>\n",
    "Event\n",
    "<br>\n",
    "URL\n",
    "<br>\n",
    "Date\n",
    "<br>\n",
    "Location\n",
    "<br>"
   ]
  },
  {
   "cell_type": "code",
   "execution_count": null,
   "metadata": {},
   "outputs": [],
   "source": [
    "# define url to parse\n",
    "events_url = config['completed_events_all_url']"
   ]
  },
  {
   "cell_type": "code",
   "execution_count": null,
   "metadata": {},
   "outputs": [],
   "source": [
    "# get soup\n",
    "soup = LIB.get_soup(events_url)\n",
    "\n",
    "# parse event details\n",
    "all_event_details_df = LIB.parse_event_details(soup)\n",
    "\n",
    "# show event details\n",
    "display(all_event_details_df)\n",
    "\n",
    "# write event details to file\n",
    "all_event_details_df.to_csv(config['event_details_file_name'], index=False)"
   ]
  },
  {
   "cell_type": "markdown",
   "metadata": {},
   "source": [
    "# Parse Fight Details\n",
    "Includes:\n",
    "<br>\n",
    "Event\n",
    "<br>\n",
    "Bout\n",
    "<br>\n",
    "URL"
   ]
  },
  {
   "cell_type": "code",
   "execution_count": null,
   "metadata": {},
   "outputs": [],
   "source": [
    "# define list of urls of fights to parse\n",
    "list_of_events_urls = list(all_event_details_df['URL'])"
   ]
  },
  {
   "cell_type": "code",
   "execution_count": null,
   "metadata": {},
   "outputs": [],
   "source": [
    "# create empty df to store fight details\n",
    "all_fight_details_df = pd.DataFrame(columns=config['fight_details_column_names'])\n",
    "\n",
    "# loop through each event and parse fight details\n",
    "for url in tqdm_notebook(list_of_events_urls):\n",
    "\n",
    "    # get soup\n",
    "    soup = LIB.get_soup(url)\n",
    "\n",
    "    # parse fight links\n",
    "    fight_details_df = LIB.parse_fight_details(soup)\n",
    "    fight_details_df['eventURL'] = url\n",
    "    \n",
    "    # concat fight details\n",
    "    all_fight_details_df = pd.concat([all_fight_details_df, fight_details_df])\n",
    "\n",
    "# show all fight details\n",
    "display(all_fight_details_df)\n",
    "\n",
    "# write fight details to file\n",
    "all_fight_details_df.to_csv(config['fight_details_file_name'], index=False)"
   ]
  },
  {
   "cell_type": "code",
   "execution_count": null,
   "metadata": {},
   "outputs": [],
   "source": []
  },
  {
   "cell_type": "code",
   "execution_count": null,
   "metadata": {
    "scrolled": false
   },
   "outputs": [],
   "source": []
  },
  {
   "cell_type": "code",
   "execution_count": null,
   "metadata": {
    "scrolled": false
   },
   "outputs": [],
   "source": []
  },
  {
   "cell_type": "code",
   "execution_count": null,
   "metadata": {
    "scrolled": false
   },
   "outputs": [],
   "source": []
  },
  {
   "cell_type": "code",
   "execution_count": null,
   "metadata": {},
   "outputs": [],
   "source": []
  },
  {
   "cell_type": "code",
   "execution_count": null,
   "metadata": {},
   "outputs": [],
   "source": []
  },
  {
   "cell_type": "code",
   "execution_count": null,
   "metadata": {},
   "outputs": [],
   "source": []
  },
  {
   "cell_type": "code",
   "execution_count": null,
   "metadata": {},
   "outputs": [],
   "source": []
  },
  {
   "cell_type": "code",
   "execution_count": null,
   "metadata": {},
   "outputs": [],
   "source": []
  },
  {
   "cell_type": "markdown",
   "metadata": {},
   "source": [
    "# Parse Fight Results and Fight Stats\n",
    "\n",
    "Fight Results Includes:\n",
    "<br>\n",
    "Event\n",
    "<br>\n",
    "Bout\n",
    "<br>\n",
    "Weightclass\n",
    "<br>\n",
    "Method\n",
    "<br>\n",
    "Round\n",
    "<br>\n",
    "Time\n",
    "<br>\n",
    "Time Format\n",
    "<br>\n",
    "Referee\n",
    "<br>\n",
    "Details\n",
    "<br>\n",
    "\n",
    "Fight Stats Includes:\n",
    "<br>\n",
    "Event\n",
    "<br>\n",
    "Bout\n",
    "<br>\n",
    "Round\n",
    "<br>\n",
    "Fighter\n",
    "<br>\n",
    "Kd\n",
    "<br>\n",
    "Sig.Str.\n",
    "<br>\n",
    "Sig.Str. %\n",
    "<br>\n",
    "Total Str.\n",
    "<br>\n",
    "Td\n",
    "<br>\n",
    "Td %\n",
    "<br>\n",
    "Sub.Att\n",
    "<br>\n",
    "Rev.\n",
    "<br>\n",
    "Ctrl\n",
    "<br>\n",
    "Head\n",
    "<br>\n",
    "Body\n",
    "<br>\n",
    "Leg\n",
    "<br>\n",
    "Distance\n",
    "<br>\n",
    "Clinch\n",
    "<br>\n",
    "Ground\n",
    "<br>"
   ]
  },
  {
   "cell_type": "code",
   "execution_count": null,
   "metadata": {},
   "outputs": [],
   "source": [
    "# define list of urls of fights to parse\n",
    "list_of_fight_details_urls = list(all_fight_details_df['URL'])"
   ]
  },
  {
   "cell_type": "code",
   "execution_count": null,
   "metadata": {
    "scrolled": false
   },
   "outputs": [],
   "source": [
    "# create empty df to store fight results\n",
    "all_fight_results_df = pd.DataFrame(columns=config['fight_results_column_names'])\n",
    "# create empty df to store fight stats\n",
    "all_fight_stats_df = pd.DataFrame(columns=config['fight_stats_column_names'])\n",
    "\n",
    "# loop through each fight and parse fight results and stats\n",
    "for url in tqdm_notebook(list_of_fight_details_urls):\n",
    "    backoff = 1\n",
    "    while True:\n",
    "        try:\n",
    "            # get soup\n",
    "            soup = LIB.get_soup(url)\n",
    "\n",
    "            # parse fight results and fight stats\n",
    "            fight_results_df, fight_stats_df = LIB.parse_organise_fight_results_and_stats(\n",
    "                soup,\n",
    "                url,\n",
    "                config['fight_results_column_names'],\n",
    "                config['totals_column_names'],\n",
    "                config['significant_strikes_column_names']\n",
    "            )\n",
    "\n",
    "            # concat fight results\n",
    "            all_fight_results_df = pd.concat([all_fight_results_df, fight_results_df])\n",
    "            # concat fight stats\n",
    "            all_fight_stats_df = pd.concat([all_fight_stats_df, fight_stats_df])\n",
    "            break\n",
    "        except Exception as e:\n",
    "            print(f'threw {e}. Sleeping for {backoff} seconds and retrying...')\n",
    "            time.sleep(backoff)\n",
    "            backoff = min(16, 2 * backoff)\n",
    "\n",
    "# show all fight results\n",
    "display(all_fight_results_df)\n",
    "# show all fight stats\n",
    "display(all_fight_stats_df)\n",
    "\n",
    "# write to file\n",
    "all_fight_results_df.to_csv(config['fight_results_file_name'], index=False)\n",
    "# write to file\n",
    "all_fight_stats_df.to_csv(config['fight_stats_file_name'], index=False)"
   ]
  },
  {
   "cell_type": "code",
   "execution_count": null,
   "metadata": {},
   "outputs": [],
   "source": []
  },
  {
   "cell_type": "code",
   "execution_count": null,
   "metadata": {},
   "outputs": [],
   "source": []
  },
  {
   "cell_type": "code",
   "execution_count": null,
   "metadata": {},
   "outputs": [],
   "source": []
  },
  {
   "cell_type": "code",
   "execution_count": null,
   "metadata": {},
   "outputs": [],
   "source": []
  },
  {
   "cell_type": "code",
   "execution_count": null,
   "metadata": {},
   "outputs": [],
   "source": []
  }
 ],
 "metadata": {
  "interpreter": {
   "hash": "15747ae626c9cfad767687a667802efd987d29cfb104f39ef23d4cc739083892"
  },
  "kernelspec": {
   "display_name": "Python 3 (ipykernel)",
   "language": "python",
   "name": "python3"
  },
  "language_info": {
   "codemirror_mode": {
    "name": "ipython",
    "version": 3
   },
   "file_extension": ".py",
   "mimetype": "text/x-python",
   "name": "python",
   "nbconvert_exporter": "python",
   "pygments_lexer": "ipython3",
   "version": "3.11.0"
  }
 },
 "nbformat": 4,
 "nbformat_minor": 2
}
