{
 "cells": [
  {
   "cell_type": "code",
   "execution_count": null,
   "metadata": {},
   "outputs": [],
   "source": [
    "'''\n",
    "Overview\n",
    "this notebook parses all fighters' details and tale of the tape\n",
    "\n",
    "scrape ufc fighters' details\n",
    "includes first, last, nickname, url\n",
    "from url scrape scrape fighter's tale of the tape, \n",
    "includes fighter, height, weight, reach, stance, dob\n",
    "'''"
   ]
  },
  {
   "cell_type": "code",
   "execution_count": null,
   "metadata": {},
   "outputs": [],
   "source": [
    "# imports\n",
    "import pandas as pd\n",
    "import numpy as np\n",
    "from tqdm.notebook import tqdm_notebook\n",
    "\n",
    "# import library\n",
    "import scrape_ufc_stats_library as LIB\n",
    "import importlib\n",
    "importlib.reload(LIB)\n",
    "\n",
    "# import configs\n",
    "import yaml\n",
    "config = yaml.safe_load(open('scrape_ufc_stats_config.yaml'))"
   ]
  },
  {
   "cell_type": "markdown",
   "metadata": {},
   "source": [
    "# Parse Fighter Details\n",
    "Includes:\n",
    "<br>\n",
    "First\n",
    "<br>\n",
    "Last\n",
    "<br>\n",
    "Nickname\n",
    "<br>\n",
    "URL"
   ]
  },
  {
   "cell_type": "code",
   "execution_count": null,
   "metadata": {},
   "outputs": [],
   "source": [
    "# generate list of urls for fighter details\n",
    "list_of_alphabetical_urls = LIB.generate_alphabetical_urls()"
   ]
  },
  {
   "cell_type": "code",
   "execution_count": null,
   "metadata": {},
   "outputs": [],
   "source": [
    "for url in tqdm_notebook(list_of_alphabetical_urls):\n",
    "    print(url)"
   ]
  },
  {
   "cell_type": "code",
   "execution_count": null,
   "metadata": {},
   "outputs": [],
   "source": [
    "# create empty dataframe to store all fighter details\n",
    "all_fighter_details_df = pd.DataFrame()\n",
    "\n",
    "# loop through list of alphabetical urls\n",
    "for url in tqdm_notebook(list_of_alphabetical_urls):\n",
    "    # get soup\n",
    "    soup = LIB.get_soup(url)\n",
    "    # parse fighter details\n",
    "    fighter_details_df = LIB.parse_fighter_details(soup, config['fighter_details_column_names'])\n",
    "    # concat fighter_details_df to all_fighter_details_df\n",
    "    all_fighter_details_df = pd.concat([all_fighter_details_df, fighter_details_df])\n",
    "\n",
    "# show all fighter details\n",
    "display(all_fighter_details_df)\n",
    "\n",
    "# write to file\n",
    "all_fighter_details_df.to_csv(config['fighter_details_file_name'], index=False)"
   ]
  },
  {
   "cell_type": "markdown",
   "metadata": {},
   "source": [
    "# Parse Fighter Tale of the Tape\n",
    "\n",
    "Includes:\n",
    "<br>\n",
    "Fighter\n",
    "<br>\n",
    "Height\n",
    "<br>\n",
    "Weight\n",
    "<br>\n",
    "Reach\n",
    "<br>\n",
    "Stance\n",
    "<br>\n",
    "DOB\n",
    "<br>\n",
    "URL"
   ]
  },
  {
   "cell_type": "code",
   "execution_count": null,
   "metadata": {},
   "outputs": [],
   "source": [
    "# define list of urls of fighters to parse\n",
    "list_of_fighter_urls = list(all_fighter_details_df['URL'])"
   ]
  },
  {
   "cell_type": "code",
   "execution_count": null,
   "metadata": {},
   "outputs": [],
   "source": [
    "# create empty df to store fighters' tale of the tape\n",
    "all_fighter_tott_df = pd.DataFrame(columns=config['fighter_tott_column_names'])\n",
    "\n",
    "# loop through list_of_fighter_urls\n",
    "for url in tqdm_notebook(list_of_fighter_urls):\n",
    "    # get soup\n",
    "    soup = LIB.get_soup(url)\n",
    "    # parse fighter tale of the tape\n",
    "    fighter_tott = LIB.parse_fighter_tott(soup)\n",
    "    # organise fighter tale of the tape\n",
    "    fighter_tott_df = LIB.organise_fighter_tott(fighter_tott, config['fighter_tott_column_names'], url)\n",
    "    # concat fighter\n",
    "    all_fighter_tott_df = pd.concat([all_fighter_tott_df, fighter_tott_df])\n",
    "\n",
    "# show all fighters' tale of the tape\n",
    "display(all_fighter_tott_df)\n",
    "\n",
    "# write to file\n",
    "all_fighter_tott_df.to_csv(config['fighter_tott_file_name'], index=False)"
   ]
  },
  {
   "cell_type": "code",
   "execution_count": null,
   "metadata": {},
   "outputs": [],
   "source": []
  }
 ],
 "metadata": {
  "interpreter": {
   "hash": "9aac8944d03ded7dbafcde28cbfe34d23c9079c2df9125865de5144d9ea8ac9a"
  },
  "kernelspec": {
   "display_name": "Python 3 (ipykernel)",
   "language": "python",
   "name": "python3"
  },
  "language_info": {
   "codemirror_mode": {
    "name": "ipython",
    "version": 3
   },
   "file_extension": ".py",
   "mimetype": "text/x-python",
   "name": "python",
   "nbconvert_exporter": "python",
   "pygments_lexer": "ipython3",
   "version": "3.11.0"
  }
 },
 "nbformat": 4,
 "nbformat_minor": 2
}
