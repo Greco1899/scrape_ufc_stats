{
 "cells": [
  {
   "cell_type": "code",
   "execution_count": null,
   "id": "8ca1d167",
   "metadata": {},
   "outputs": [],
   "source": [
    "import pandas\n",
    "import re\n",
    "import datetime\n",
    "import glob\n",
    "\n",
    "from dateutil.parser import parse as dateutil_parse\n",
    "from mma.glm.merge_data import DATA_PATH, load_fighters_df, load_merged_df\n",
    "\n",
    "pandas.set_option('display.max_columns', None)\n",
    "pandas.set_option('display.max_rows', None)"
   ]
  },
  {
   "cell_type": "code",
   "execution_count": null,
   "id": "0f6a9143",
   "metadata": {},
   "outputs": [],
   "source": []
  },
  {
   "cell_type": "code",
   "execution_count": null,
   "id": "c41aea2f",
   "metadata": {},
   "outputs": [],
   "source": [
    "DUPED_IDS = {\n",
    "    '0778f94eb5d588a5',\n",
    "    '12ebd7d157e91701',\n",
    "    '159da492e000afbf',\n",
    "    '2924886ee9c4c527',\n",
    "    '3dc3022232b79c7a',\n",
    "    '7bc475b0fc2020ab',\n",
    "    '8349d55cdecd393a',\n",
    "    '8d9586726252dbf7',\n",
    "    '99bcdf5eac39898f',\n",
    "    'ac5a7400da3a9a41',\n",
    "    'b2f88c04c4dd43ce',\n",
    "    'd3de4a24f7eefac8',\n",
    "    'dea070ed4a2a8281',\n",
    "    'dfae5da5676e4194',\n",
    "    'e0b74df14f52cd15',\n",
    "    'eee0ef3e2b14816b',\n",
    "    'f2477cf43c4975cc',\n",
    "    'fb3e61720be4690c',\n",
    "    'fdfef29ba17ee525'\n",
    "}\n",
    "\n",
    "MANUAL_MAPPING = pandas.DataFrame([\n",
    "    {'fighterId': 'c739c2995a275314', 'espnId': '4917145'},\n",
    "    {'fighterId': '82529ce93cd9a2cf', 'espnId': '4875513'},\n",
    "    {'fighterId': '3f11fd1751fa83b1', 'espnId': '4894925'},\n",
    "    {'fighterId': 'd8c811df0386d5e8', 'espnId': '5068624'},\n",
    "    {'fighterId': '148bb103cfbf123e', 'espnId': '5068617'},\n",
    "    {'fighterId': 'b671bdf981ad527d', 'espnId': '5068545'},\n",
    "    {'fighterId': '036e96c1c12b8a59', 'espnId': '5122794'},\n",
    "    {'fighterId': '082eba4cd80f736f', 'espnId': '5093447'},\n",
    "    {'fighterId': '23a6e307077c6ccc', 'espnId': '3951294'},\n",
    "    {'fighterId': '7b39035fae7268b8', 'espnId': '2983499'},\n",
    "    {'fighterId': '1abfb658cd4f8533', 'espnId': '3012403'},\n",
    "    {'fighterId': '49e49b54e5901d0d', 'espnId': '2612668'},\n",
    "    {'fighterId': '668222c99c5c311d', 'espnId': '2558192'},\n",
    "    {'fighterId': '338a11d3674eb2d4', 'espnId': '2536134'},\n",
    "    {'fighterId': 'c058823a2595ab09', 'espnId': '2558133'},\n",
    "    {'fighterId': '5898357a45a73674', 'espnId': '2558132'},\n",
    "    {'fighterId': 'e8efeb9cf33b1941', 'espnId': '2951312'},\n",
    "    {'fighterId': 'c6e6926a81adcd00', 'espnId': '2558141'},\n",
    "    {'fighterId': '7ca4c3f8aa8bacae', 'espnId': '2558143'},\n",
    "    {'fighterId': 'e8c170a64dc920ac', 'espnId': '2558140'},\n",
    "    {'fighterId': '56f4b81ec4db61af', 'espnId': '2951489'},\n",
    "    {'fighterId': '21f2974fd08085e3', 'espnId': '2951254'},\n",
    "    {'fighterId': '53e533db1b8e9712', 'espnId': '2951342'},\n",
    "    {'fighterId': 'abbc4fc02e0d84b3', 'espnId': '2951316'},\n",
    "    {'fighterId': '4985113c0928aa62', 'espnId': '2951291'}\n",
    "#     {'fighterId': '', 'espnId': ''},\n",
    "#     {'fighterId': '', 'espnId': ''},\n",
    "#     {'fighterId': '', 'espnId': ''},\n",
    "])"
   ]
  },
  {
   "cell_type": "code",
   "execution_count": null,
   "id": "fec1d60e",
   "metadata": {},
   "outputs": [],
   "source": []
  },
  {
   "cell_type": "code",
   "execution_count": null,
   "id": "a56f4cc5",
   "metadata": {},
   "outputs": [],
   "source": [
    "def name_to_slug(name: str) -> str:\n",
    "    return '-'.join([re.sub(r'\\W+', '', word) for word in name.split()]).lower()"
   ]
  },
  {
   "cell_type": "code",
   "execution_count": null,
   "id": "eaf16e00",
   "metadata": {},
   "outputs": [],
   "source": []
  },
  {
   "cell_type": "code",
   "execution_count": null,
   "id": "2f672ab6",
   "metadata": {},
   "outputs": [],
   "source": [
    "all_espn_fighters = pandas.read_csv(f'{DATA_PATH}/espn_fighters.csv')\n",
    "all_espn_fighters['espnId'] = all_espn_fighters['espnId'].astype(str)"
   ]
  },
  {
   "cell_type": "code",
   "execution_count": null,
   "id": "17036d93",
   "metadata": {},
   "outputs": [],
   "source": [
    "all_ufc_fighters = load_fighters_df()\n",
    "all_ufc_fighters['ufcSlug'] = all_ufc_fighters['FIGHTER'].apply(name_to_slug)\n",
    "all_ufc_fighters.head(1)"
   ]
  },
  {
   "cell_type": "code",
   "execution_count": null,
   "id": "842e8423",
   "metadata": {},
   "outputs": [],
   "source": [
    "duped_merged_df = load_merged_df()[['fighterId','opponentId','date']]\n",
    "duped_merged_df['count'] = 1\n",
    "\n",
    "ufc_counts = duped_merged_df.groupby(['fighterId','date']).aggregate({'count': 'count'})\n",
    "ufc_df = ufc_counts[ufc_counts['count'] == 1].merge(duped_merged_df, on=['fighterId','date'], how='left')"
   ]
  },
  {
   "cell_type": "code",
   "execution_count": null,
   "id": "e1fcaa51",
   "metadata": {},
   "outputs": [],
   "source": []
  },
  {
   "cell_type": "code",
   "execution_count": null,
   "id": "a32e8a3a",
   "metadata": {},
   "outputs": [],
   "source": [
    "espn_fight_dfs = []\n",
    "for filename in glob.glob(f'{DATA_PATH}/espn_fighters/*/distance.csv'):\n",
    "    espn_fight_dfs.append(pandas.read_csv(filename))\n",
    "espn_fights = pandas.concat(espn_fight_dfs, axis=0)\n",
    "espn_fights['espnId'] = espn_fights['espnId'].astype(str)\n",
    "espn_fights['opponentEspnId'] = espn_fights['opponentEspnId'].astype(str)\n",
    "espn_fights['date'] = espn_fights['Date'].apply(dateutil_parse)\n",
    "\n",
    "# sometimes fighters have fought multiple times per day\n",
    "duped_espn_df = espn_fights[espn_fights['date'] >= min_ufc_date][['espnId', 'opponentEspnId', 'date']].dropna().reset_index(drop=True)\n",
    "duped_espn_df['count'] = 1"
   ]
  },
  {
   "cell_type": "code",
   "execution_count": null,
   "id": "61ea1197",
   "metadata": {},
   "outputs": [],
   "source": [
    "espn_counts_df = duped_espn_df.groupby(['espnId','date'], as_index=False).aggregate({'count': 'count'})\n",
    "espn_df = (\n",
    "    espn_counts_df[espn_counts_df['count'] == 1]\n",
    "    .drop(columns=['count'])\n",
    "    .merge(duped_espn_df[['espnId', 'date','opponentEspnId']], on=['espnId', 'date'], how='left')\n",
    ")"
   ]
  },
  {
   "cell_type": "code",
   "execution_count": null,
   "id": "da405e26",
   "metadata": {},
   "outputs": [],
   "source": [
    "espn_fighters = (\n",
    "    espn_df[['espnId']].groupby(['espnId'],as_index=False).nth(0).reset_index(drop=True)\n",
    "    .merge(all_espn_fighters, on='espnId', how='inner')\n",
    ")\n",
    "espn_fighters.head()"
   ]
  },
  {
   "cell_type": "code",
   "execution_count": null,
   "id": "3b33eb4a",
   "metadata": {},
   "outputs": [],
   "source": [
    "ufc_fighters = (\n",
    "    ufc_df[['fighterId']].groupby(['fighterId'],as_index=False).nth(0).reset_index(drop=True)\n",
    "    .merge(all_ufc_fighters, on='fighterId', how='inner')\n",
    ")\n",
    "ufc_fighters.head()"
   ]
  },
  {
   "cell_type": "code",
   "execution_count": null,
   "id": "888095f1",
   "metadata": {},
   "outputs": [],
   "source": []
  },
  {
   "cell_type": "code",
   "execution_count": null,
   "id": "a71b77eb",
   "metadata": {},
   "outputs": [],
   "source": []
  },
  {
   "cell_type": "code",
   "execution_count": null,
   "id": "81cf45fd",
   "metadata": {},
   "outputs": [],
   "source": [
    "ufc_espn = ufc_fighters.merge(espn_fighters, left_on='ufcSlug', right_on='espnSlug', how='left').dropna()\n",
    "espn_ufc = ufc_fighters.merge(espn_fighters, left_on='ufcSlug', right_on='espnSlug', how='right').dropna()\n",
    "\n",
    "duped_mapping = pandas.concat([ufc_espn, espn_ufc], axis=0)[['fighterId', 'espnId']]\n",
    "init_mapping = (\n",
    "    pandas.concat([duped_mapping[~duped_mapping['fighterId'].isin(DUPED_IDS)], MANUAL_MAPPING], axis=0)\n",
    "    .drop_duplicates(subset=['fighterId'], ignore_index=True)\n",
    "    .drop_duplicates(subset=['espnId'], ignore_index=True)\n",
    "    .reset_index(drop=True)\n",
    ")\n",
    "\n",
    "all_ids = set(ufc_fighters['fighterId'])\n",
    "mapped_ids = set(init_mapping['fighterId'])\n",
    "\n",
    "print(f'{len(mapped_ids):,} / {len(all_ids):,} ({len(mapped_ids)/len(all_ids):.1%}) of UFC ids mapped')"
   ]
  },
  {
   "cell_type": "code",
   "execution_count": null,
   "id": "3bd486d5",
   "metadata": {},
   "outputs": [],
   "source": []
  },
  {
   "cell_type": "code",
   "execution_count": null,
   "id": "77b01360",
   "metadata": {},
   "outputs": [],
   "source": []
  },
  {
   "cell_type": "code",
   "execution_count": null,
   "id": "66d373b6",
   "metadata": {},
   "outputs": [],
   "source": [
    "\"\"\"\n",
    "mapping algo...\n",
    "- init maps we know for sure\n",
    "- make DF of UFC fighter1, fighter2, date\n",
    "- plus flipping 1 <=> 2\n",
    "\n",
    "- make DF of ESPN fighter1, fighter2, date plus flipping\n",
    "- merge in known mapping\n",
    "- induce missing maps from fights\n",
    "- set init map = induced map\n",
    "- run until we \n",
    "\"\"\";"
   ]
  },
  {
   "cell_type": "code",
   "execution_count": null,
   "id": "76de2a6e",
   "metadata": {},
   "outputs": [],
   "source": []
  },
  {
   "cell_type": "code",
   "execution_count": null,
   "id": "7382ea0c",
   "metadata": {},
   "outputs": [],
   "source": []
  },
  {
   "cell_type": "code",
   "execution_count": null,
   "id": "8d700e7b",
   "metadata": {},
   "outputs": [],
   "source": [
    "mapping = init_mapping[['fighterId','espnId']].copy()\n",
    "\n",
    "old_n_mapping = 0\n",
    "new_n_mapping = len(mapping)\n",
    "print(f'initial mapping: {new_n_mapping}')"
   ]
  },
  {
   "cell_type": "code",
   "execution_count": null,
   "id": "52fe7267",
   "metadata": {},
   "outputs": [],
   "source": []
  },
  {
   "cell_type": "code",
   "execution_count": null,
   "id": "77587eb7",
   "metadata": {},
   "outputs": [],
   "source": [
    "# ufc_df[ufc_df['fighterId'] == '1dab0d1d81dd06db']"
   ]
  },
  {
   "cell_type": "code",
   "execution_count": null,
   "id": "d5d1f303",
   "metadata": {},
   "outputs": [],
   "source": []
  },
  {
   "cell_type": "code",
   "execution_count": null,
   "id": "172a062b",
   "metadata": {},
   "outputs": [],
   "source": []
  },
  {
   "cell_type": "code",
   "execution_count": null,
   "id": "a9baad75",
   "metadata": {
    "scrolled": false
   },
   "outputs": [],
   "source": [
    "max_runs = 100\n",
    "n_runs = 0\n",
    "while old_n_mapping < new_n_mapping and n_runs < max_runs:\n",
    "    mapped_ufc_df = ufc_df.merge(mapping, on='fighterId', how='inner').dropna()\n",
    "    merged_df = mapped_ufc_df.merge(espn_df, on=['espnId', 'date'], how='inner').dropna()\n",
    "  \n",
    "    # if we have mapped fighter UFC <=> ESPN,\n",
    "    # then we can map their opponents\n",
    "    # via matching up fight dates\n",
    "    add_to_mapping = (\n",
    "        merged_df[['opponentId','opponentEspnId']]\n",
    "        .rename(columns={'opponentId': 'fighterId', 'opponentEspnId': 'espnId'})\n",
    "        .drop_duplicates(ignore_index=True)\n",
    "    )\n",
    "\n",
    "    mapping = pandas.concat([mapping, add_to_mapping], axis=0).drop_duplicates(ignore_index=True)\n",
    "    old_n_mapping = new_n_mapping\n",
    "    new_n_mapping = len(mapping)\n",
    "    print(f'{old_n_mapping=}, {new_n_mapping=}')\n",
    "    n_runs += 1"
   ]
  },
  {
   "cell_type": "code",
   "execution_count": null,
   "id": "ffe97b02",
   "metadata": {},
   "outputs": [],
   "source": []
  },
  {
   "cell_type": "code",
   "execution_count": null,
   "id": "60ba0470",
   "metadata": {},
   "outputs": [],
   "source": []
  },
  {
   "cell_type": "code",
   "execution_count": null,
   "id": "c6d078e1",
   "metadata": {},
   "outputs": [],
   "source": [
    "mapping['count'] = 1\n",
    "dupes = mapping.groupby(['fighterId'], as_index=False).aggregate({'count': 'count'})\n",
    "duped_ids = set(dupes[dupes['count'] > 1]['fighterId'])\n",
    "dupes[dupes['count'] > 1]"
   ]
  },
  {
   "cell_type": "code",
   "execution_count": null,
   "id": "8e48c2e8",
   "metadata": {},
   "outputs": [],
   "source": [
    "DATA_PATH"
   ]
  },
  {
   "cell_type": "code",
   "execution_count": null,
   "id": "1fb42d30",
   "metadata": {},
   "outputs": [],
   "source": [
    "mapping.drop(columns=['count']).to_csv(f'{DATA_PATH}/ufcstats_espn_mapping.csv', index=False)"
   ]
  },
  {
   "cell_type": "code",
   "execution_count": null,
   "id": "d5aea839",
   "metadata": {
    "scrolled": false
   },
   "outputs": [],
   "source": []
  },
  {
   "cell_type": "code",
   "execution_count": null,
   "id": "ce4fd856",
   "metadata": {},
   "outputs": [],
   "source": []
  },
  {
   "cell_type": "code",
   "execution_count": null,
   "id": "bb8522ad",
   "metadata": {},
   "outputs": [],
   "source": []
  },
  {
   "cell_type": "code",
   "execution_count": null,
   "id": "cf006a32",
   "metadata": {},
   "outputs": [],
   "source": []
  },
  {
   "cell_type": "code",
   "execution_count": null,
   "id": "f94dc622",
   "metadata": {},
   "outputs": [],
   "source": []
  },
  {
   "cell_type": "code",
   "execution_count": null,
   "id": "90ce5c35",
   "metadata": {},
   "outputs": [],
   "source": []
  },
  {
   "cell_type": "code",
   "execution_count": null,
   "id": "f4481f6a",
   "metadata": {},
   "outputs": [],
   "source": []
  },
  {
   "cell_type": "code",
   "execution_count": null,
   "id": "c8b2e1e9",
   "metadata": {},
   "outputs": [],
   "source": []
  },
  {
   "cell_type": "code",
   "execution_count": null,
   "id": "56ea9fac",
   "metadata": {},
   "outputs": [],
   "source": [
    "last_fights = duped_merged_df.groupby(['fighterId'], as_index=False).aggregate({'date': 'max'})\n",
    "missing_maps = last_fights.merge(ufc_fighters[~ufc_fighters['fighterId'].isin(mapping['fighterId'])], how='right').sort_values(['date'], ascending=False)\n",
    "print(f'missing {len(missing_maps)} maps')\n",
    "missing_maps.head(10)"
   ]
  },
  {
   "cell_type": "code",
   "execution_count": null,
   "id": "ca0cbb7f",
   "metadata": {
    "scrolled": false
   },
   "outputs": [],
   "source": [
    "all_espn_fighters.head()"
   ]
  },
  {
   "cell_type": "code",
   "execution_count": null,
   "id": "5fab6dc5",
   "metadata": {
    "scrolled": false
   },
   "outputs": [],
   "source": [
    "new_manual = missing_maps.merge(espn_fighters, left_on=['ufcSlug'], right_on=['espnSlug'], how='inner')"
   ]
  },
  {
   "cell_type": "code",
   "execution_count": null,
   "id": "917becf7",
   "metadata": {},
   "outputs": [],
   "source": [
    "mapping[mapping['fighterId'].isin(new_manual['fighterId'])]"
   ]
  },
  {
   "cell_type": "code",
   "execution_count": null,
   "id": "b1b8e753",
   "metadata": {},
   "outputs": [],
   "source": [
    "mapping[mapping['espnId'].isin(new_manual['espnId'])]"
   ]
  },
  {
   "cell_type": "code",
   "execution_count": null,
   "id": "fd7d14de",
   "metadata": {},
   "outputs": [],
   "source": [
    "new_manual[['fighterId', 'espnId']].to_dict(orient='records')"
   ]
  },
  {
   "cell_type": "code",
   "execution_count": null,
   "id": "4c892bbf",
   "metadata": {},
   "outputs": [],
   "source": [
    "# mapping[mapping['espnId'] == '4917145']"
   ]
  },
  {
   "cell_type": "code",
   "execution_count": null,
   "id": "0d5308a8",
   "metadata": {},
   "outputs": [],
   "source": []
  }
 ],
 "metadata": {
  "kernelspec": {
   "display_name": "Python 3 (ipykernel)",
   "language": "python",
   "name": "python3"
  },
  "language_info": {
   "codemirror_mode": {
    "name": "ipython",
    "version": 3
   },
   "file_extension": ".py",
   "mimetype": "text/x-python",
   "name": "python",
   "nbconvert_exporter": "python",
   "pygments_lexer": "ipython3",
   "version": "3.11.0"
  }
 },
 "nbformat": 4,
 "nbformat_minor": 5
}
