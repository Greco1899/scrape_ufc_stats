{
 "cells": [
  {
   "cell_type": "code",
   "execution_count": 1,
   "id": "8ca1d167",
   "metadata": {},
   "outputs": [
    {
     "ename": "ModuleNotFoundError",
     "evalue": "No module named 'mma'",
     "output_type": "error",
     "traceback": [
      "\u001b[0;31m---------------------------------------------------------------------------\u001b[0m",
      "\u001b[0;31mModuleNotFoundError\u001b[0m                       Traceback (most recent call last)",
      "Cell \u001b[0;32mIn[1], line 7\u001b[0m\n\u001b[1;32m      4\u001b[0m \u001b[38;5;28;01mimport\u001b[39;00m \u001b[38;5;21;01mglob\u001b[39;00m\n\u001b[1;32m      6\u001b[0m \u001b[38;5;28;01mfrom\u001b[39;00m \u001b[38;5;21;01mdateutil\u001b[39;00m\u001b[38;5;21;01m.\u001b[39;00m\u001b[38;5;21;01mparser\u001b[39;00m \u001b[38;5;28;01mimport\u001b[39;00m parse \u001b[38;5;28;01mas\u001b[39;00m dateutil_parse\n\u001b[0;32m----> 7\u001b[0m \u001b[38;5;28;01mfrom\u001b[39;00m \u001b[38;5;21;01mmma\u001b[39;00m\u001b[38;5;21;01m.\u001b[39;00m\u001b[38;5;21;01mglm\u001b[39;00m\u001b[38;5;21;01m.\u001b[39;00m\u001b[38;5;21;01mmerge_data\u001b[39;00m \u001b[38;5;28;01mimport\u001b[39;00m DATA_PATH, load_fighters_df, load_merged_df\n\u001b[1;32m      9\u001b[0m pandas\u001b[38;5;241m.\u001b[39mset_option(\u001b[38;5;124m'\u001b[39m\u001b[38;5;124mdisplay.max_columns\u001b[39m\u001b[38;5;124m'\u001b[39m, \u001b[38;5;28;01mNone\u001b[39;00m)\n\u001b[1;32m     10\u001b[0m pandas\u001b[38;5;241m.\u001b[39mset_option(\u001b[38;5;124m'\u001b[39m\u001b[38;5;124mdisplay.max_rows\u001b[39m\u001b[38;5;124m'\u001b[39m, \u001b[38;5;28;01mNone\u001b[39;00m)\n",
      "\u001b[0;31mModuleNotFoundError\u001b[0m: No module named 'mma'"
     ]
    }
   ],
   "source": [
    "import pandas\n",
    "import re\n",
    "import datetime\n",
    "import glob\n",
    "\n",
    "from dateutil.parser import parse as dateutil_parse\n",
    "from mma.glm.merge_data import DATA_PATH, load_fighters_df, load_merged_df\n",
    "\n",
    "pandas.set_option('display.max_columns', None)\n",
    "pandas.set_option('display.max_rows', None)"
   ]
  },
  {
   "cell_type": "code",
   "execution_count": null,
   "id": "fec1d60e",
   "metadata": {},
   "outputs": [],
   "source": []
  },
  {
   "cell_type": "code",
   "execution_count": null,
   "id": "a56f4cc5",
   "metadata": {},
   "outputs": [],
   "source": [
    "def name_to_slug(name: str) -> str:\n",
    "    return '-'.join([re.sub(r'\\W+', '', word) for word in name.split()]).lower()"
   ]
  },
  {
   "cell_type": "code",
   "execution_count": null,
   "id": "eaf16e00",
   "metadata": {},
   "outputs": [],
   "source": []
  },
  {
   "cell_type": "code",
   "execution_count": null,
   "id": "2f672ab6",
   "metadata": {},
   "outputs": [],
   "source": [
    "espn_fighters = pandas.read_csv(f'{DATA_PATH}/espn_fighters.csv')\n",
    "espn_fighters['espnId'] = espn_fighters['espnId'].astype(str)"
   ]
  },
  {
   "cell_type": "code",
   "execution_count": null,
   "id": "17036d93",
   "metadata": {},
   "outputs": [],
   "source": [
    "fighters = load_fighters_df()\n",
    "fighters['ufcSlug'] = fighters['FIGHTER'].apply(name_to_slug)\n",
    "fighters.head(1)\n",
    "\n",
    "merged_df = load_merged_df()\n",
    "merged_df.head(1)\n",
    "\n",
    "fighter_counts = (\n",
    "    merged_df[merged_df['date'] > pandas.Timestamp(datetime.date(2010,1,1))]\n",
    "    .groupby(['fighterId'], as_index=False)\n",
    "    .aggregate({'fightId': 'count'})\n",
    "    .rename(columns={'fightId': 'fights'})\n",
    ")\n",
    "\n",
    "ufc_fighters = fighter_counts.merge(fighters, how='inner', on='fighterId')\n",
    "ufc_fighters.head(1)"
   ]
  },
  {
   "cell_type": "code",
   "execution_count": null,
   "id": "81cf45fd",
   "metadata": {},
   "outputs": [],
   "source": [
    "ufc_espn = ufc_fighters.merge(espn_fighters, left_on='ufcSlug', right_on='espnSlug', how='left').dropna()\n",
    "espn_ufc = ufc_fighters.merge(espn_fighters, left_on='ufcSlug', right_on='espnSlug', how='right').dropna()\n",
    "concat_ufc_espn = pandas.concat([ufc_espn, espn_ufc], axis=0).drop_duplicates()\n",
    "concat_ufc_espn['count'] = 1\n",
    "\n",
    "uniques = concat_ufc_espn.groupby('fighterId', as_index=False).aggregate({'count': 'count'})\n",
    "unique_ids = uniques[uniques['count'] == 1][['fighterId']]\n",
    "init_mapping = unique_ids.merge(concat_ufc_espn, on='fighterId', how='left')\n",
    "\n",
    "duped_ufc_ids = set(uniques[uniques['count'] != 1]['fighterId'])\n",
    "all_ids = set(ufc_fighters['fighterId'])\n",
    "mapped_ids = set(init_mapping['fighterId'])\n",
    "\n",
    "print(f'{len(mapped_ids)/len(all_ids):.1%} of UFC ids mapped')"
   ]
  },
  {
   "cell_type": "code",
   "execution_count": null,
   "id": "3bd486d5",
   "metadata": {},
   "outputs": [],
   "source": []
  },
  {
   "cell_type": "code",
   "execution_count": null,
   "id": "77b01360",
   "metadata": {},
   "outputs": [],
   "source": []
  },
  {
   "cell_type": "code",
   "execution_count": null,
   "id": "66d373b6",
   "metadata": {},
   "outputs": [],
   "source": [
    "\"\"\"\n",
    "mapping algo...\n",
    "- init maps we know for sure\n",
    "- make DF of UFC fighter1, fighter2, date\n",
    "- plus flipping 1 <=> 2\n",
    "\n",
    "- make DF of ESPN fighter1, fighter2, date plus flipping\n",
    "- merge in known mapping\n",
    "- induce missing maps from fights\n",
    "- set init map = induced map\n",
    "- run until we \n",
    "\"\"\";"
   ]
  },
  {
   "cell_type": "code",
   "execution_count": null,
   "id": "bcae1328",
   "metadata": {},
   "outputs": [],
   "source": []
  },
  {
   "cell_type": "code",
   "execution_count": null,
   "id": "76de2a6e",
   "metadata": {},
   "outputs": [],
   "source": [
    "ufc_df = merged_df[['fighterId','opponentId','date']].dropna().reset_index(drop=True)\n",
    "min_ufc_date = ufc_df['date'].min()\n",
    "ufc_df.head(1)"
   ]
  },
  {
   "cell_type": "code",
   "execution_count": null,
   "id": "63e588af",
   "metadata": {},
   "outputs": [],
   "source": []
  },
  {
   "cell_type": "code",
   "execution_count": null,
   "id": "ec775a90",
   "metadata": {},
   "outputs": [],
   "source": [
    "espn_fight_dfs = []\n",
    "for filename in glob.glob(f'{DATA_PATH}/espn_fighters/*/distance.csv'):\n",
    "    espn_fight_dfs.append(pandas.read_csv(filename))\n",
    "espn_fights = pandas.concat(espn_fight_dfs, axis=0)\n",
    "espn_fights['espnId'] = espn_fights['espnId'].astype(str)\n",
    "espn_fights['opponentEspnId'] = espn_fights['opponentEspnId'].astype(str)\n",
    "espn_fights['date'] = espn_fights['Date'].apply(dateutil_parse)\n",
    "espn_df = espn_fights[espn_fights['date'] >= min_ufc_date][['espnId', 'opponentEspnId', 'date']].dropna().reset_index(drop=True)\n",
    "espn_df.head(1)"
   ]
  },
  {
   "cell_type": "code",
   "execution_count": null,
   "id": "3a127f62",
   "metadata": {},
   "outputs": [],
   "source": []
  },
  {
   "cell_type": "code",
   "execution_count": null,
   "id": "7382ea0c",
   "metadata": {},
   "outputs": [],
   "source": []
  },
  {
   "cell_type": "code",
   "execution_count": null,
   "id": "8d700e7b",
   "metadata": {},
   "outputs": [],
   "source": [
    "mapping = init_mapping[['fighterId','espnId']].copy()\n",
    "\n",
    "old_n_mapping = 0\n",
    "new_n_mapping = len(mapping)\n",
    "print(f'initial mapping: {new_n_mapping}')"
   ]
  },
  {
   "cell_type": "code",
   "execution_count": null,
   "id": "52fe7267",
   "metadata": {},
   "outputs": [],
   "source": []
  },
  {
   "cell_type": "code",
   "execution_count": null,
   "id": "77587eb7",
   "metadata": {},
   "outputs": [],
   "source": [
    "ufc_df[ufc_df['fighterId'] == '1dab0d1d81dd06db']"
   ]
  },
  {
   "cell_type": "code",
   "execution_count": null,
   "id": "d5d1f303",
   "metadata": {},
   "outputs": [],
   "source": []
  },
  {
   "cell_type": "code",
   "execution_count": null,
   "id": "172a062b",
   "metadata": {},
   "outputs": [],
   "source": []
  },
  {
   "cell_type": "code",
   "execution_count": null,
   "id": "a9baad75",
   "metadata": {
    "scrolled": false
   },
   "outputs": [],
   "source": [
    "while old_n_mapping < new_n_mapping and old_n_mapping < 1:\n",
    "    mapped_ufc_df = ufc_df.merge(mapping, on='fighterId', how='inner').dropna()\n",
    "    merged_df = mapped_ufc_df.merge(espn_df, on=['espnId', 'date'], how='inner').dropna()\n",
    "\n",
    "    add_to_mapping = (\n",
    "        merged_df[['opponentId','opponentEspnId']]\n",
    "        .rename(columns={'opponentId': 'fighterId', 'opponentEspnId': 'espnId'})\n",
    "        .drop_duplicates(ignore_index=True)\n",
    "    )\n",
    "\n",
    "    mapping = pandas.concat([mapping, add_to_mapping], axis=0).drop_duplicates(ignore_index=True)\n",
    "    old_n_mapping = new_n_mapping\n",
    "    new_n_mapping = len(mapping)\n",
    "    print(f'{old_n_mapping=}, {new_n_mapping=}')"
   ]
  },
  {
   "cell_type": "code",
   "execution_count": null,
   "id": "b3bcd196",
   "metadata": {},
   "outputs": [],
   "source": []
  },
  {
   "cell_type": "code",
   "execution_count": null,
   "id": "c6d078e1",
   "metadata": {},
   "outputs": [],
   "source": [
    "mapping['count'] = 1\n",
    "dupes = mapping.groupby(['fighterId'], as_index=False).aggregate({'count': 'count'})\n",
    "dupes[dupes['count'] > 1].head()"
   ]
  },
  {
   "cell_type": "code",
   "execution_count": null,
   "id": "d5aea839",
   "metadata": {
    "scrolled": false
   },
   "outputs": [],
   "source": [
    "mapping[mapping['fighterId'] == '1dab0d1d81dd06db']"
   ]
  },
  {
   "cell_type": "code",
   "execution_count": null,
   "id": "4c892bbf",
   "metadata": {},
   "outputs": [],
   "source": []
  },
  {
   "cell_type": "code",
   "execution_count": null,
   "id": "0d5308a8",
   "metadata": {},
   "outputs": [],
   "source": [
    "len(add_to_mapping.drop_duplicates(ignore_index=True))"
   ]
  },
  {
   "cell_type": "code",
   "execution_count": null,
   "id": "efd4ff16",
   "metadata": {},
   "outputs": [],
   "source": []
  },
  {
   "cell_type": "code",
   "execution_count": null,
   "id": "d60db0b0",
   "metadata": {
    "scrolled": false
   },
   "outputs": [],
   "source": [
    "full_merged = (\n",
    "    merged_df\n",
    "    .drop(columns=['fighterId', 'espnId'])\n",
    "    .merge(ufc_fighters, left_on='opponentId', right_on='fighterId')\n",
    "    .merge(espn_fighters, left_on='opponentEspnId',  right_on='espnId')\n",
    ")\n",
    "\n",
    "full_merged['count'] = 1"
   ]
  },
  {
   "cell_type": "code",
   "execution_count": null,
   "id": "a8ef1da5",
   "metadata": {},
   "outputs": [],
   "source": []
  },
  {
   "cell_type": "code",
   "execution_count": null,
   "id": "f0df955c",
   "metadata": {},
   "outputs": [],
   "source": [
    "full_merged[full_merged['fighterId'] == '0052de90691d4a93'].head()"
   ]
  },
  {
   "cell_type": "code",
   "execution_count": null,
   "id": "855adc80",
   "metadata": {},
   "outputs": [],
   "source": []
  }
 ],
 "metadata": {
  "kernelspec": {
   "display_name": "Python 3 (ipykernel)",
   "language": "python",
   "name": "python3"
  },
  "language_info": {
   "codemirror_mode": {
    "name": "ipython",
    "version": 3
   },
   "file_extension": ".py",
   "mimetype": "text/x-python",
   "name": "python",
   "nbconvert_exporter": "python",
   "pygments_lexer": "ipython3",
   "version": "3.11.0"
  }
 },
 "nbformat": 4,
 "nbformat_minor": 5
}
